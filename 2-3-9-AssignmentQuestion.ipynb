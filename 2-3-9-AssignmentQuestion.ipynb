{
  "cells": [
    {
      "cell_type": "markdown",
      "metadata": {
        "id": "iiVBUpuHXEtw"
      },
      "source": [
        "# Create a CNN to classify Cifar-10\n",
        "\n",
        "Learn about Cifar-10 here: https://www.cs.toronto.edu/~kriz/cifar.html\n",
        "\n",
        "In class you saw how to build a Convolutional Neural Network that classified Fashion MNIST. Take what you learned to build a CNN that recognizes the 10 classes of CIFAR. It will be a similar network, but there are some key differences you'll need to take into account.\n",
        "\n",
        "First, while MNIST were 28x28 monochome images (1 color channel), CIFAR are 32x32 color images (3 color channels).\n",
        "\n",
        "Second, MNIST images are simple, containing just the object, centered in the image, with no background. CIFAR ones can have the object with a background -- for example airplanes might have a cloudy sky behind them! As such you should expect your accuracy to be a bit lower. \n",
        "\n",
        "We start by setting up the problem for you."
      ]
    },
    {
      "cell_type": "code",
      "execution_count": 1,
      "metadata": {
        "id": "6OQ_tVTaU3oo",
        "outputId": "65d0cb99-86a7-4535-df84-9dbda766386f",
        "colab": {
          "base_uri": "https://localhost:8080/"
        }
      },
      "outputs": [
        {
          "output_type": "stream",
          "name": "stdout",
          "text": [
            "Downloading data from https://www.cs.toronto.edu/~kriz/cifar-10-python.tar.gz\n",
            "170500096/170498071 [==============================] - 3s 0us/step\n",
            "170508288/170498071 [==============================] - 3s 0us/step\n"
          ]
        }
      ],
      "source": [
        "import tensorflow as tf\n",
        "\n",
        "from tensorflow.keras import datasets, layers, models\n",
        "import matplotlib.pyplot as plt\n",
        "\n",
        "(train_images, train_labels), (test_images, test_labels) = datasets.cifar10.load_data()\n",
        "\n",
        "# Normalize pixel values to be between 0 and 1\n",
        "train_images = train_images / 255.0\n",
        "test_images = test_images / 255.0"
      ]
    },
    {
      "cell_type": "markdown",
      "metadata": {
        "id": "6TTYG4sANgbB"
      },
      "source": [
        "We then definte some of the model for you but leave most of it for you to fill in! \n",
        "\n",
        "*A hint: your model may want to learn some high level features and then classify them.*"
      ]
    },
    {
      "cell_type": "code",
      "execution_count": 2,
      "metadata": {
        "id": "law2hNzdVA16"
      },
      "outputs": [],
      "source": [
        "FIRST_LAYER = layers.Conv2D(32, (3, 3), activation='relu', input_shape=(32, 32, 3))\n",
        "\n",
        "HIDDEN_LAYER_TYPE_1 = layers.MaxPooling2D((2, 2))\n",
        "\n",
        "HIDDEN_LAYER_TYPE_2 = layers.Conv2D(64, (3, 3), activation='relu')\n",
        "\n",
        "HIDDEN_LAYER_TYPE_3 = layers.MaxPooling2D((2, 2))\n",
        "\n",
        "HIDDEN_LAYER_TYPE_4 = layers.Conv2D(64, (3, 3), activation='relu')\n",
        "\n",
        "HIDDEN_LAYER_TYPE_5 = layers.Dense(64, activation='relu')\n",
        "\n",
        "LAST_LAYER = layers.Dense(10)\n",
        "\n",
        "model = models.Sequential([\n",
        "       FIRST_LAYER,\n",
        "       HIDDEN_LAYER_TYPE_1,\n",
        "       HIDDEN_LAYER_TYPE_2,\n",
        "       HIDDEN_LAYER_TYPE_3,\n",
        "       HIDDEN_LAYER_TYPE_4,\n",
        "       layers.Flatten(),\n",
        "       HIDDEN_LAYER_TYPE_5,\n",
        "       LAST_LAYER,\n",
        "])"
      ]
    },
    {
      "cell_type": "markdown",
      "metadata": {
        "id": "Y6-kxz0iNgbD"
      },
      "source": [
        "You then need to define loss function. And you can then train your model. Once training is done you'll see a plot of training and validation accuracy. You'll know you have a reasonable model with a reasonable loss funciton if your final training accuracy ends up in the 70s (or possibly higher).\n",
        "\n",
        "*A hint: your model may want to learn different categories.*"
      ]
    },
    {
      "cell_type": "code",
      "execution_count": 3,
      "metadata": {
        "id": "Dxq2JU7dVIEX",
        "outputId": "138c00ed-7361-4e23-b404-f9444291f18e",
        "colab": {
          "base_uri": "https://localhost:8080/",
          "height": 989
        }
      },
      "outputs": [
        {
          "output_type": "stream",
          "name": "stdout",
          "text": [
            "Epoch 1/20\n",
            "1563/1563 [==============================] - 21s 5ms/step - loss: 2.0832 - accuracy: 0.2193 - val_loss: 1.8709 - val_accuracy: 0.3210\n",
            "Epoch 2/20\n",
            "1563/1563 [==============================] - 10s 6ms/step - loss: 1.7242 - accuracy: 0.3731 - val_loss: 1.7150 - val_accuracy: 0.3908\n",
            "Epoch 3/20\n",
            "1563/1563 [==============================] - 9s 5ms/step - loss: 1.5209 - accuracy: 0.4499 - val_loss: 1.5228 - val_accuracy: 0.4565\n",
            "Epoch 4/20\n",
            "1563/1563 [==============================] - 8s 5ms/step - loss: 1.3973 - accuracy: 0.5004 - val_loss: 1.3994 - val_accuracy: 0.4915\n",
            "Epoch 5/20\n",
            "1563/1563 [==============================] - 7s 4ms/step - loss: 1.3047 - accuracy: 0.5348 - val_loss: 1.2946 - val_accuracy: 0.5362\n",
            "Epoch 6/20\n",
            "1563/1563 [==============================] - 7s 5ms/step - loss: 1.2285 - accuracy: 0.5636 - val_loss: 1.2849 - val_accuracy: 0.5462\n",
            "Epoch 7/20\n",
            "1563/1563 [==============================] - 7s 5ms/step - loss: 1.1659 - accuracy: 0.5863 - val_loss: 1.1645 - val_accuracy: 0.5854\n",
            "Epoch 8/20\n",
            "1563/1563 [==============================] - 8s 5ms/step - loss: 1.1107 - accuracy: 0.6096 - val_loss: 1.1258 - val_accuracy: 0.5983\n",
            "Epoch 9/20\n",
            "1563/1563 [==============================] - 7s 4ms/step - loss: 1.0624 - accuracy: 0.6270 - val_loss: 1.1319 - val_accuracy: 0.5971\n",
            "Epoch 10/20\n",
            "1563/1563 [==============================] - 7s 5ms/step - loss: 1.0158 - accuracy: 0.6450 - val_loss: 1.0585 - val_accuracy: 0.6304\n",
            "Epoch 11/20\n",
            "1563/1563 [==============================] - 8s 5ms/step - loss: 0.9756 - accuracy: 0.6613 - val_loss: 1.0223 - val_accuracy: 0.6406\n",
            "Epoch 12/20\n",
            "1563/1563 [==============================] - 7s 5ms/step - loss: 0.9355 - accuracy: 0.6753 - val_loss: 1.1046 - val_accuracy: 0.6129\n",
            "Epoch 13/20\n",
            "1563/1563 [==============================] - 7s 4ms/step - loss: 0.9020 - accuracy: 0.6848 - val_loss: 1.0258 - val_accuracy: 0.6444\n",
            "Epoch 14/20\n",
            "1563/1563 [==============================] - 7s 5ms/step - loss: 0.8697 - accuracy: 0.6970 - val_loss: 1.0463 - val_accuracy: 0.6325\n",
            "Epoch 15/20\n",
            "1563/1563 [==============================] - 7s 5ms/step - loss: 0.8355 - accuracy: 0.7098 - val_loss: 1.0027 - val_accuracy: 0.6579\n",
            "Epoch 16/20\n",
            "1563/1563 [==============================] - 8s 5ms/step - loss: 0.8080 - accuracy: 0.7200 - val_loss: 0.9432 - val_accuracy: 0.6774\n",
            "Epoch 17/20\n",
            "1563/1563 [==============================] - 8s 5ms/step - loss: 0.7767 - accuracy: 0.7298 - val_loss: 1.0150 - val_accuracy: 0.6545\n",
            "Epoch 18/20\n",
            "1563/1563 [==============================] - 7s 5ms/step - loss: 0.7496 - accuracy: 0.7392 - val_loss: 0.9567 - val_accuracy: 0.6737\n",
            "Epoch 19/20\n",
            "1563/1563 [==============================] - 7s 5ms/step - loss: 0.7247 - accuracy: 0.7485 - val_loss: 0.9539 - val_accuracy: 0.6770\n",
            "Epoch 20/20\n",
            "1563/1563 [==============================] - 8s 5ms/step - loss: 0.6987 - accuracy: 0.7565 - val_loss: 0.9165 - val_accuracy: 0.6889\n"
          ]
        },
        {
          "output_type": "display_data",
          "data": {
            "text/plain": [
              "<Figure size 432x288 with 1 Axes>"
            ],
            "image/png": "[encoded data removed]"
          },
          "metadata": {
            "needs_background": "light"
          }
        }
      ],
      "source": [
        "LOSS = tf.keras.losses.SparseCategoricalCrossentropy(from_logits=True)\n",
        "NUM_EPOCHS = 20 #You can change this value if you like to experiment with it to get better accuracy\n",
        "\n",
        "# Compile the model\n",
        "model.compile(optimizer='sgd',\n",
        "              loss=LOSS,\n",
        "              metrics=['accuracy'])\n",
        "\n",
        "# Fit the model\n",
        "history = model.fit(train_images, train_labels, epochs=NUM_EPOCHS, \n",
        "                    validation_data=(test_images, test_labels))\n",
        "\n",
        "# summarize history for accuracy\n",
        "plt.plot(history.history['accuracy'])\n",
        "plt.plot(history.history['val_accuracy'])\n",
        "plt.title('model accuracy')\n",
        "plt.ylabel('accuracy')\n",
        "plt.xlabel('epoch')\n",
        "plt.legend(['train', 'test'], loc='upper left')\n",
        "plt.xlim([0,NUM_EPOCHS])\n",
        "plt.ylim([0.4,1.0])\n",
        "plt.show()"
      ]
    },
    {
      "cell_type": "markdown",
      "metadata": {
        "id": "XG3Q8kFaNgbH"
      },
      "source": [
        "Finally, pick a better optimizer. And re-train your model. You'll know you have a reasonable model with a reasonable loss funciton and optimizer if your final training accuracy ends up in the 80s (or possibly higher).\n",
        "\n",
        "*A hint: your model may want to learn adaptively.*"
      ]
    },
    {
      "cell_type": "code",
      "execution_count": null,
      "metadata": {
        "id": "80cSHRQ9NgbK"
      },
      "outputs": [],
      "source": [
        "OPTIMIZER = 'adam'\n",
        "\n",
        "# Compile the model\n",
        "model.compile(optimizer=OPTIMIZER,\n",
        "              loss=LOSS,\n",
        "              metrics=['accuracy'])\n",
        "\n",
        "# Fit the model\n",
        "history = model.fit(train_images, train_labels, epochs=NUM_EPOCHS, \n",
        "                    validation_data=(test_images, test_labels))\n",
        "\n",
        "# summarize history for accuracy\n",
        "plt.plot(history.history['accuracy'])\n",
        "plt.plot(history.history['val_accuracy'])\n",
        "plt.title('model accuracy')\n",
        "plt.ylabel('accuracy')\n",
        "plt.xlabel('epoch')\n",
        "plt.legend(['train', 'test'], loc='upper left')\n",
        "plt.xlim([0,NUM_EPOCHS])\n",
        "plt.ylim([0.4,1.0])\n",
        "plt.show()"
      ]
    }
  ],
  "metadata": {
    "accelerator": "GPU",
    "colab": {
      "name": "2-3-9-Question.ipynb",
      "provenance": []
    },
    "kernelspec": {
      "display_name": "Python 3",
      "language": "python",
      "name": "python3"
    },
    "language_info": {
      "codemirror_mode": {
        "name": "ipython",
        "version": 3
      },
      "file_extension": ".py",
      "mimetype": "text/x-python",
      "name": "python",
      "nbconvert_exporter": "python",
      "pygments_lexer": "ipython3",
      "version": "3.6.9"
    }
  },
  "nbformat": 4,
  "nbformat_minor": 0
}